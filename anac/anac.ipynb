{
 "cells": [
  {
   "cell_type": "markdown",
   "id": "19c4adcb-abf9-484c-b679-5906a73ea5ff",
   "metadata": {},
   "source": [
    "# Dataset: ANAC - Dados dos vôos domésticos do ano de 2020\n",
    "https://sas.anac.gov.br/sas/downloads/view/frmDownload.aspx?tema=14"
   ]
  },
  {
   "cell_type": "markdown",
   "id": "9e80b2af-faab-4f2a-908b-d0b8c935a91e",
   "metadata": {},
   "source": [
    "<strong>Os dados para análise estão separados em meses, então irei fazer o procedimento de Consolidar arquivos CSV.\n",
    "\n",
    "- Para realizar esse procedimento baixe todos os arquivos pelo link acima;\n",
    "- Na pastas dos arquivos abra o \"cmd\";\n",
    "- Digite os códigos de acordo a imagem abaixo;\n",
    "- Será gerado um único arquivo csv.</strong>"
   ]
  },
  {
   "cell_type": "markdown",
   "id": "82c1e247-22ef-4386-b78b-e055b8e43ca3",
   "metadata": {},
   "source": [
    "<img scr=\"\">"
   ]
  },
  {
   "cell_type": "code",
   "execution_count": null,
   "id": "24dc1fdc-f926-422f-bdb9-24d6a3504e64",
   "metadata": {},
   "outputs": [],
   "source": [
    "<img scr=\"\">"
   ]
  },
  {
   "cell_type": "code",
   "execution_count": null,
   "id": "5fc1e634-9b9a-467d-98fa-948692da94ad",
   "metadata": {},
   "outputs": [],
   "source": []
  },
  {
   "cell_type": "code",
   "execution_count": null,
   "id": "93711624-bf47-4ce1-ada6-b582ef3908bf",
   "metadata": {},
   "outputs": [],
   "source": []
  }
 ],
 "metadata": {
  "kernelspec": {
   "display_name": "Python 3 (ipykernel)",
   "language": "python",
   "name": "python3"
  },
  "language_info": {
   "codemirror_mode": {
    "name": "ipython",
    "version": 3
   },
   "file_extension": ".py",
   "mimetype": "text/x-python",
   "name": "python",
   "nbconvert_exporter": "python",
   "pygments_lexer": "ipython3",
   "version": "3.12.2"
  }
 },
 "nbformat": 4,
 "nbformat_minor": 5
}
