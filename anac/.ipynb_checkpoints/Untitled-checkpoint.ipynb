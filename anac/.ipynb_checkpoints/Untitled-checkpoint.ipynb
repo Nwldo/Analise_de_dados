{
 "cells": [
  {
   "cell_type": "code",
   "execution_count": 7,
   "id": "b7f96412-be1b-48ac-a56b-d6c146385e5d",
   "metadata": {},
   "outputs": [
    {
     "name": "stderr",
     "output_type": "stream",
     "text": [
      "<>:5: SyntaxWarning: invalid escape sequence '\\d'\n",
      "<>:5: SyntaxWarning: invalid escape sequence '\\d'\n",
      "C:\\Users\\User\\AppData\\Local\\Temp\\ipykernel_9560\\65703848.py:5: SyntaxWarning: invalid escape sequence '\\d'\n",
      "  pasta = \"D:\\dev\\Analise_Dados\\Analise_de_dados\\anac\\anac_10207664\"\n",
      "C:\\Users\\User\\AppData\\Local\\Temp\\ipykernel_9560\\65703848.py:5: SyntaxWarning: invalid escape sequence '\\d'\n",
      "  pasta = \"D:\\dev\\Analise_Dados\\Analise_de_dados\\anac\\anac_10207664\"\n"
     ]
    },
    {
     "ename": "OSError",
     "evalue": "[WinError 123] A sintaxe do nome do arquivo, do nome do diretório ou do rótulo do volume está incorreta: 'D:\\\\dev\\\\Analise_Dados\\\\Analise_de_dados\\x07nac\\x07nac_10207664'",
     "output_type": "error",
     "traceback": [
      "\u001b[1;31m---------------------------------------------------------------------------\u001b[0m",
      "\u001b[1;31mOSError\u001b[0m                                   Traceback (most recent call last)",
      "Cell \u001b[1;32mIn[7], line 11\u001b[0m\n\u001b[0;32m      8\u001b[0m dfs \u001b[38;5;241m=\u001b[39m []\n\u001b[0;32m     10\u001b[0m \u001b[38;5;66;03m# Loop pelos arquivos na pasta\u001b[39;00m\n\u001b[1;32m---> 11\u001b[0m \u001b[38;5;28;01mfor\u001b[39;00m arquivo \u001b[38;5;129;01min\u001b[39;00m \u001b[43mos\u001b[49m\u001b[38;5;241;43m.\u001b[39;49m\u001b[43mlistdir\u001b[49m\u001b[43m(\u001b[49m\u001b[43mpasta\u001b[49m\u001b[43m)\u001b[49m:\n\u001b[0;32m     12\u001b[0m     \u001b[38;5;28;01mif\u001b[39;00m arquivo\u001b[38;5;241m.\u001b[39mendswith(\u001b[38;5;124m'\u001b[39m\u001b[38;5;124m.csv\u001b[39m\u001b[38;5;124m'\u001b[39m):\n\u001b[0;32m     13\u001b[0m         \u001b[38;5;66;03m# Carregar o arquivo CSV em um DataFrame\u001b[39;00m\n\u001b[0;32m     14\u001b[0m         df \u001b[38;5;241m=\u001b[39m pd\u001b[38;5;241m.\u001b[39mread_csv(os\u001b[38;5;241m.\u001b[39mpath\u001b[38;5;241m.\u001b[39mjoin(pasta, arquivo), sep\u001b[38;5;241m=\u001b[39m\u001b[38;5;124m'\u001b[39m\u001b[38;5;124m;\u001b[39m\u001b[38;5;124m'\u001b[39m)\n",
      "\u001b[1;31mOSError\u001b[0m: [WinError 123] A sintaxe do nome do arquivo, do nome do diretório ou do rótulo do volume está incorreta: 'D:\\\\dev\\\\Analise_Dados\\\\Analise_de_dados\\x07nac\\x07nac_10207664'"
     ]
    }
   ],
   "source": [
    "import os\n",
    "import pandas as pd\n",
    "\n",
    "# Caminho para a pasta contendo os arquivos CSV\n",
    "pasta = \"D:\\dev\\Analise_Dados\\Analise_de_dados\\anac\\anac_10207664\"\n",
    "\n",
    "# Lista para armazenar os DataFrames de cada arquivo CSV\n",
    "dfs = []\n",
    "\n",
    "# Loop pelos arquivos na pasta\n",
    "for arquivo in os.listdir(pasta):\n",
    "    if arquivo.endswith('.csv'):\n",
    "        # Carregar o arquivo CSV em um DataFrame\n",
    "        df = pd.read_csv(os.path.join(pasta, arquivo), sep=';')\n",
    "        # Adicionar DataFrame à lista\n",
    "        dfs.append(df)\n",
    "\n",
    "# Concatenar os DataFrames em um único DataFrame\n",
    "df_final = pd.concat(dfs, ignore_index=True)\n",
    "\n",
    "# Encontrar a primeira ocorrência do cabeçalho\n",
    "indice_cabecalho = df_final.index[df_final['Ano de Referência'] == 'Ano de Referência'][0]\n",
    "\n",
    "# Excluir todas as linhas após a primeira ocorrência do cabeçalho\n",
    "df_final = df_final.iloc[:indice_cabecalho+1]\n",
    "\n",
    "# Salvar o DataFrame final em um arquivo CSV\n",
    "df_final.to_csv('arquivo_unificado.csv', index=False)"
   ]
  },
  {
   "cell_type": "code",
   "execution_count": null,
   "id": "ae783ed6-59e1-4fb1-b0ec-ec98bb144093",
   "metadata": {},
   "outputs": [],
   "source": []
  },
  {
   "cell_type": "code",
   "execution_count": null,
   "id": "97a397f9-cb08-4ea4-8eff-5988485b6bcf",
   "metadata": {},
   "outputs": [],
   "source": []
  }
 ],
 "metadata": {
  "kernelspec": {
   "display_name": "Python 3 (ipykernel)",
   "language": "python",
   "name": "python3"
  },
  "language_info": {
   "codemirror_mode": {
    "name": "ipython",
    "version": 3
   },
   "file_extension": ".py",
   "mimetype": "text/x-python",
   "name": "python",
   "nbconvert_exporter": "python",
   "pygments_lexer": "ipython3",
   "version": "3.12.2"
  }
 },
 "nbformat": 4,
 "nbformat_minor": 5
}
